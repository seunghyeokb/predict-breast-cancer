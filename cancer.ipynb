{
 "cells": [
  {
   "cell_type": "markdown",
   "metadata": {
    "colab_type": "text",
    "id": "lP6JLo1tGNBg"
   },
   "source": [
    "# Artificial Neural Network"
   ]
  },
  {
   "cell_type": "markdown",
   "metadata": {
    "colab_type": "text",
    "id": "gWZyYmS_UE_L"
   },
   "source": [
    "### Importing the libraries"
   ]
  },
  {
   "cell_type": "code",
   "execution_count": 1,
   "metadata": {
    "colab": {},
    "colab_type": "code",
    "id": "MxkJoQBkUIHC"
   },
   "outputs": [],
   "source": [
    "import numpy as np\n",
    "import pandas as pd\n",
    "import tensorflow as tf"
   ]
  },
  {
   "cell_type": "code",
   "execution_count": 2,
   "metadata": {
    "colab": {
     "base_uri": "https://localhost:8080/",
     "height": 34
    },
    "colab_type": "code",
    "executionInfo": {
     "elapsed": 2787,
     "status": "ok",
     "timestamp": 1586428376540,
     "user": {
      "displayName": "Hadelin de Ponteves",
      "photoUrl": "https://lh3.googleusercontent.com/a-/AOh14GhEuXdT7eQweUmRPW8_laJuPggSK6hfvpl5a6WBaA=s64",
      "userId": "15047218817161520419"
     },
     "user_tz": -240
    },
    "id": "ZaTwK7ojXr2F",
    "outputId": "9991cc2b-cd5d-4e1e-c681-d32b9f4faa9a"
   },
   "outputs": [
    {
     "data": {
      "text/plain": [
       "'2.0.0'"
      ]
     },
     "execution_count": 2,
     "metadata": {},
     "output_type": "execute_result"
    }
   ],
   "source": [
    "tf.__version__"
   ]
  },
  {
   "cell_type": "markdown",
   "metadata": {
    "colab_type": "text",
    "id": "1E0Q3aoKUCRX"
   },
   "source": [
    "## Part 1 - Data Preprocessing"
   ]
  },
  {
   "cell_type": "markdown",
   "metadata": {
    "colab_type": "text",
    "id": "cKWAkFVGUU0Z"
   },
   "source": [
    "### Importing the dataset"
   ]
  },
  {
   "cell_type": "code",
   "execution_count": 19,
   "metadata": {
    "colab": {},
    "colab_type": "code",
    "id": "MXUkhkMfU4wq"
   },
   "outputs": [],
   "source": [
    "dataset = pd.read_csv('data.csv')\n",
    "X = dataset.iloc[:, 2:50].values\n",
    "y = dataset.iloc[:, 1].values"
   ]
  },
  {
   "cell_type": "code",
   "execution_count": 20,
   "metadata": {
    "colab": {
     "base_uri": "https://localhost:8080/",
     "height": 134
    },
    "colab_type": "code",
    "executionInfo": {
     "elapsed": 2782,
     "status": "ok",
     "timestamp": 1586428376541,
     "user": {
      "displayName": "Hadelin de Ponteves",
      "photoUrl": "https://lh3.googleusercontent.com/a-/AOh14GhEuXdT7eQweUmRPW8_laJuPggSK6hfvpl5a6WBaA=s64",
      "userId": "15047218817161520419"
     },
     "user_tz": -240
    },
    "id": "VYP9cQTWbzuI",
    "outputId": "38e3588f-f2e3-436b-bdc5-2967d495155c"
   },
   "outputs": [
    {
     "name": "stdout",
     "output_type": "stream",
     "text": [
      "[[1.799e+01 1.038e+01 1.228e+02 ... 2.654e-01 4.601e-01 1.189e-01]\n",
      " [2.057e+01 1.777e+01 1.329e+02 ... 1.860e-01 2.750e-01 8.902e-02]\n",
      " [1.969e+01 2.125e+01 1.300e+02 ... 2.430e-01 3.613e-01 8.758e-02]\n",
      " ...\n",
      " [1.660e+01 2.808e+01 1.083e+02 ... 1.418e-01 2.218e-01 7.820e-02]\n",
      " [2.060e+01 2.933e+01 1.401e+02 ... 2.650e-01 4.087e-01 1.240e-01]\n",
      " [7.760e+00 2.454e+01 4.792e+01 ... 0.000e+00 2.871e-01 7.039e-02]]\n"
     ]
    }
   ],
   "source": [
    "print(X)"
   ]
  },
  {
   "cell_type": "code",
   "execution_count": 21,
   "metadata": {
    "colab": {
     "base_uri": "https://localhost:8080/",
     "height": 34
    },
    "colab_type": "code",
    "executionInfo": {
     "elapsed": 2780,
     "status": "ok",
     "timestamp": 1586428376541,
     "user": {
      "displayName": "Hadelin de Ponteves",
      "photoUrl": "https://lh3.googleusercontent.com/a-/AOh14GhEuXdT7eQweUmRPW8_laJuPggSK6hfvpl5a6WBaA=s64",
      "userId": "15047218817161520419"
     },
     "user_tz": -240
    },
    "id": "38vKGE6Nb2RR",
    "outputId": "2abeb945-135e-460f-99e9-9967abe198d1",
    "scrolled": true
   },
   "outputs": [
    {
     "name": "stdout",
     "output_type": "stream",
     "text": [
      "['M' 'M' 'M' 'M' 'M' 'M' 'M' 'M' 'M' 'M' 'M' 'M' 'M' 'M' 'M' 'M' 'M' 'M'\n",
      " 'M' 'B' 'B' 'B' 'M' 'M' 'M' 'M' 'M' 'M' 'M' 'M' 'M' 'M' 'M' 'M' 'M' 'M'\n",
      " 'M' 'B' 'M' 'M' 'M' 'M' 'M' 'M' 'M' 'M' 'B' 'M' 'B' 'B' 'B' 'B' 'B' 'M'\n",
      " 'M' 'B' 'M' 'M' 'B' 'B' 'B' 'B' 'M' 'B' 'M' 'M' 'B' 'B' 'B' 'B' 'M' 'B'\n",
      " 'M' 'M' 'B' 'M' 'B' 'M' 'M' 'B' 'B' 'B' 'M' 'M' 'B' 'M' 'M' 'M' 'B' 'B'\n",
      " 'B' 'M' 'B' 'B' 'M' 'M' 'B' 'B' 'B' 'M' 'M' 'B' 'B' 'B' 'B' 'M' 'B' 'B'\n",
      " 'M' 'B' 'B' 'B' 'B' 'B' 'B' 'B' 'B' 'M' 'M' 'M' 'B' 'M' 'M' 'B' 'B' 'B'\n",
      " 'M' 'M' 'B' 'M' 'B' 'M' 'M' 'B' 'M' 'M' 'B' 'B' 'M' 'B' 'B' 'M' 'B' 'B'\n",
      " 'B' 'B' 'M' 'B' 'B' 'B' 'B' 'B' 'B' 'B' 'B' 'B' 'M' 'B' 'B' 'B' 'B' 'M'\n",
      " 'M' 'B' 'M' 'B' 'B' 'M' 'M' 'B' 'B' 'M' 'M' 'B' 'B' 'B' 'B' 'M' 'B' 'B'\n",
      " 'M' 'M' 'M' 'B' 'M' 'B' 'M' 'B' 'B' 'B' 'M' 'B' 'B' 'M' 'M' 'B' 'M' 'M'\n",
      " 'M' 'M' 'B' 'M' 'M' 'M' 'B' 'M' 'B' 'M' 'B' 'B' 'M' 'B' 'M' 'M' 'M' 'M'\n",
      " 'B' 'B' 'M' 'M' 'B' 'B' 'B' 'M' 'B' 'B' 'B' 'B' 'B' 'M' 'M' 'B' 'B' 'M'\n",
      " 'B' 'B' 'M' 'M' 'B' 'M' 'B' 'B' 'B' 'B' 'M' 'B' 'B' 'B' 'B' 'B' 'M' 'B'\n",
      " 'M' 'M' 'M' 'M' 'M' 'M' 'M' 'M' 'M' 'M' 'M' 'M' 'M' 'M' 'B' 'B' 'B' 'B'\n",
      " 'B' 'B' 'M' 'B' 'M' 'B' 'B' 'M' 'B' 'B' 'M' 'B' 'M' 'M' 'B' 'B' 'B' 'B'\n",
      " 'B' 'B' 'B' 'B' 'B' 'B' 'B' 'B' 'B' 'M' 'B' 'B' 'M' 'B' 'M' 'B' 'B' 'B'\n",
      " 'B' 'B' 'B' 'B' 'B' 'B' 'B' 'B' 'B' 'B' 'B' 'M' 'B' 'B' 'B' 'M' 'B' 'M'\n",
      " 'B' 'B' 'B' 'B' 'M' 'M' 'M' 'B' 'B' 'B' 'B' 'M' 'B' 'M' 'B' 'M' 'B' 'B'\n",
      " 'B' 'M' 'B' 'B' 'B' 'B' 'B' 'B' 'B' 'M' 'M' 'M' 'B' 'B' 'B' 'B' 'B' 'B'\n",
      " 'B' 'B' 'B' 'B' 'B' 'M' 'M' 'B' 'M' 'M' 'M' 'B' 'M' 'M' 'B' 'B' 'B' 'B'\n",
      " 'B' 'M' 'B' 'B' 'B' 'B' 'B' 'M' 'B' 'B' 'B' 'M' 'B' 'B' 'M' 'M' 'B' 'B'\n",
      " 'B' 'B' 'B' 'B' 'M' 'B' 'B' 'B' 'B' 'B' 'B' 'B' 'M' 'B' 'B' 'B' 'B' 'B'\n",
      " 'M' 'B' 'B' 'M' 'B' 'B' 'B' 'B' 'B' 'B' 'B' 'B' 'B' 'B' 'B' 'B' 'M' 'B'\n",
      " 'M' 'M' 'B' 'M' 'B' 'B' 'B' 'B' 'B' 'M' 'B' 'B' 'M' 'B' 'M' 'B' 'B' 'M'\n",
      " 'B' 'M' 'B' 'B' 'B' 'B' 'B' 'B' 'B' 'B' 'M' 'M' 'B' 'B' 'B' 'B' 'B' 'B'\n",
      " 'M' 'B' 'B' 'B' 'B' 'B' 'B' 'B' 'B' 'B' 'B' 'M' 'B' 'B' 'B' 'B' 'B' 'B'\n",
      " 'B' 'M' 'B' 'M' 'B' 'B' 'M' 'B' 'B' 'B' 'B' 'B' 'M' 'M' 'B' 'M' 'B' 'M'\n",
      " 'B' 'B' 'B' 'B' 'B' 'M' 'B' 'B' 'M' 'B' 'M' 'B' 'M' 'M' 'B' 'B' 'B' 'M'\n",
      " 'B' 'B' 'B' 'B' 'B' 'B' 'B' 'B' 'B' 'B' 'B' 'M' 'B' 'M' 'M' 'B' 'B' 'B'\n",
      " 'B' 'B' 'B' 'B' 'B' 'B' 'B' 'B' 'B' 'B' 'B' 'B' 'B' 'B' 'B' 'B' 'B' 'B'\n",
      " 'B' 'B' 'B' 'B' 'M' 'M' 'M' 'M' 'M' 'M' 'B']\n"
     ]
    }
   ],
   "source": [
    "print(y)"
   ]
  },
  {
   "cell_type": "markdown",
   "metadata": {
    "colab_type": "text",
    "id": "N6bQ0UgSU-NJ"
   },
   "source": [
    "### Encoding categorical data"
   ]
  },
  {
   "cell_type": "markdown",
   "metadata": {
    "colab_type": "text",
    "id": "le5MJreAbW52"
   },
   "source": [
    "Label Encoding the \"diagnosis\" column"
   ]
  },
  {
   "cell_type": "code",
   "execution_count": 22,
   "metadata": {
    "colab": {},
    "colab_type": "code",
    "id": "PxVKWXxLbczC"
   },
   "outputs": [],
   "source": [
    "from sklearn.preprocessing import LabelEncoder\n",
    "le = LabelEncoder()\n",
    "y = le.fit_transform(y)"
   ]
  },
  {
   "cell_type": "code",
   "execution_count": 23,
   "metadata": {
    "colab": {
     "base_uri": "https://localhost:8080/",
     "height": 134
    },
    "colab_type": "code",
    "executionInfo": {
     "elapsed": 2775,
     "status": "ok",
     "timestamp": 1586428376542,
     "user": {
      "displayName": "Hadelin de Ponteves",
      "photoUrl": "https://lh3.googleusercontent.com/a-/AOh14GhEuXdT7eQweUmRPW8_laJuPggSK6hfvpl5a6WBaA=s64",
      "userId": "15047218817161520419"
     },
     "user_tz": -240
    },
    "id": "-M1KboxFb6OO",
    "outputId": "c7b742e2-7afb-4fb9-c6b4-ffeb3c4812f1"
   },
   "outputs": [
    {
     "name": "stdout",
     "output_type": "stream",
     "text": [
      "[1 1 1 1 1 1 1 1 1 1 1 1 1 1 1 1 1 1 1 0 0 0 1 1 1 1 1 1 1 1 1 1 1 1 1 1 1\n",
      " 0 1 1 1 1 1 1 1 1 0 1 0 0 0 0 0 1 1 0 1 1 0 0 0 0 1 0 1 1 0 0 0 0 1 0 1 1\n",
      " 0 1 0 1 1 0 0 0 1 1 0 1 1 1 0 0 0 1 0 0 1 1 0 0 0 1 1 0 0 0 0 1 0 0 1 0 0\n",
      " 0 0 0 0 0 0 1 1 1 0 1 1 0 0 0 1 1 0 1 0 1 1 0 1 1 0 0 1 0 0 1 0 0 0 0 1 0\n",
      " 0 0 0 0 0 0 0 0 1 0 0 0 0 1 1 0 1 0 0 1 1 0 0 1 1 0 0 0 0 1 0 0 1 1 1 0 1\n",
      " 0 1 0 0 0 1 0 0 1 1 0 1 1 1 1 0 1 1 1 0 1 0 1 0 0 1 0 1 1 1 1 0 0 1 1 0 0\n",
      " 0 1 0 0 0 0 0 1 1 0 0 1 0 0 1 1 0 1 0 0 0 0 1 0 0 0 0 0 1 0 1 1 1 1 1 1 1\n",
      " 1 1 1 1 1 1 1 0 0 0 0 0 0 1 0 1 0 0 1 0 0 1 0 1 1 0 0 0 0 0 0 0 0 0 0 0 0\n",
      " 0 1 0 0 1 0 1 0 0 0 0 0 0 0 0 0 0 0 0 0 0 1 0 0 0 1 0 1 0 0 0 0 1 1 1 0 0\n",
      " 0 0 1 0 1 0 1 0 0 0 1 0 0 0 0 0 0 0 1 1 1 0 0 0 0 0 0 0 0 0 0 0 1 1 0 1 1\n",
      " 1 0 1 1 0 0 0 0 0 1 0 0 0 0 0 1 0 0 0 1 0 0 1 1 0 0 0 0 0 0 1 0 0 0 0 0 0\n",
      " 0 1 0 0 0 0 0 1 0 0 1 0 0 0 0 0 0 0 0 0 0 0 0 1 0 1 1 0 1 0 0 0 0 0 1 0 0\n",
      " 1 0 1 0 0 1 0 1 0 0 0 0 0 0 0 0 1 1 0 0 0 0 0 0 1 0 0 0 0 0 0 0 0 0 0 1 0\n",
      " 0 0 0 0 0 0 1 0 1 0 0 1 0 0 0 0 0 1 1 0 1 0 1 0 0 0 0 0 1 0 0 1 0 1 0 1 1\n",
      " 0 0 0 1 0 0 0 0 0 0 0 0 0 0 0 1 0 1 1 0 0 0 0 0 0 0 0 0 0 0 0 0 0 0 0 0 0\n",
      " 0 0 0 0 0 0 0 1 1 1 1 1 1 0]\n"
     ]
    }
   ],
   "source": [
    "print(y)"
   ]
  },
  {
   "cell_type": "markdown",
   "metadata": {
    "colab_type": "text",
    "id": "RE_FcHyfV3TQ"
   },
   "source": [
    "### Feature Scaling"
   ]
  },
  {
   "cell_type": "code",
   "execution_count": 24,
   "metadata": {
    "colab": {},
    "colab_type": "code",
    "id": "ViCrE00rV8Sk"
   },
   "outputs": [],
   "source": [
    "from sklearn.preprocessing import StandardScaler\n",
    "sc = StandardScaler()\n",
    "X = sc.fit_transform(X)"
   ]
  },
  {
   "cell_type": "code",
   "execution_count": 25,
   "metadata": {
    "colab": {
     "base_uri": "https://localhost:8080/",
     "height": 235
    },
    "colab_type": "code",
    "executionInfo": {
     "elapsed": 2760,
     "status": "ok",
     "timestamp": 1586428376544,
     "user": {
      "displayName": "Hadelin de Ponteves",
      "photoUrl": "https://lh3.googleusercontent.com/a-/AOh14GhEuXdT7eQweUmRPW8_laJuPggSK6hfvpl5a6WBaA=s64",
      "userId": "15047218817161520419"
     },
     "user_tz": -240
    },
    "id": "De3UsJwXdfMz",
    "outputId": "dde0e114-7250-42b5-d54d-047faebba5e1"
   },
   "outputs": [
    {
     "name": "stdout",
     "output_type": "stream",
     "text": [
      "[[ 1.09706398 -2.07333501  1.26993369 ...  2.29607613  2.75062224\n",
      "   1.93701461]\n",
      " [ 1.82982061 -0.35363241  1.68595471 ...  1.0870843  -0.24388967\n",
      "   0.28118999]\n",
      " [ 1.57988811  0.45618695  1.56650313 ...  1.95500035  1.152255\n",
      "   0.20139121]\n",
      " ...\n",
      " [ 0.70228425  2.0455738   0.67267578 ...  0.41406869 -1.10454895\n",
      "  -0.31840916]\n",
      " [ 1.83834103  2.33645719  1.98252415 ...  2.28998549  1.91908301\n",
      "   2.21963528]\n",
      " [-1.80840125  1.22179204 -1.81438851 ... -1.74506282 -0.04813821\n",
      "  -0.75120669]]\n"
     ]
    }
   ],
   "source": [
    "print(X)"
   ]
  },
  {
   "cell_type": "markdown",
   "metadata": {
    "colab_type": "text",
    "id": "vHol938cW8zd"
   },
   "source": [
    "### Splitting the dataset into the Training set and Test set"
   ]
  },
  {
   "cell_type": "code",
   "execution_count": 26,
   "metadata": {
    "colab": {},
    "colab_type": "code",
    "id": "Z-TDt0Y_XEfc"
   },
   "outputs": [],
   "source": [
    "from sklearn.model_selection import train_test_split\n",
    "X_train, X_test, y_train, y_test = train_test_split(X, y, test_size = 0.2, random_state = 0)"
   ]
  },
  {
   "cell_type": "markdown",
   "metadata": {
    "colab_type": "text",
    "id": "-zfEzkRVXIwF"
   },
   "source": [
    "## Part 2 - Building the ANN"
   ]
  },
  {
   "cell_type": "markdown",
   "metadata": {
    "colab_type": "text",
    "id": "KvdeScabXtlB"
   },
   "source": [
    "### Initializing the ANN"
   ]
  },
  {
   "cell_type": "code",
   "execution_count": 27,
   "metadata": {
    "colab": {},
    "colab_type": "code",
    "id": "3dtrScHxXQox"
   },
   "outputs": [],
   "source": [
    "ann = tf.keras.models.Sequential()"
   ]
  },
  {
   "cell_type": "markdown",
   "metadata": {
    "colab_type": "text",
    "id": "rP6urV6SX7kS"
   },
   "source": [
    "### Adding the input layer and the first hidden layer"
   ]
  },
  {
   "cell_type": "code",
   "execution_count": 28,
   "metadata": {
    "colab": {},
    "colab_type": "code",
    "id": "bppGycBXYCQr"
   },
   "outputs": [],
   "source": [
    "ann.add(tf.keras.layers.Dense(units=30, activation='relu'))"
   ]
  },
  {
   "cell_type": "markdown",
   "metadata": {
    "colab_type": "text",
    "id": "BELWAc_8YJze"
   },
   "source": [
    "### Adding the second hidden layer"
   ]
  },
  {
   "cell_type": "code",
   "execution_count": 29,
   "metadata": {
    "colab": {},
    "colab_type": "code",
    "id": "JneR0u0sYRTd"
   },
   "outputs": [],
   "source": [
    "ann.add(tf.keras.layers.Dense(units=32, activation='relu'))"
   ]
  },
  {
   "cell_type": "markdown",
   "metadata": {
    "colab_type": "text",
    "id": "OyNEe6RXYcU4"
   },
   "source": [
    "### Adding the output layer"
   ]
  },
  {
   "cell_type": "code",
   "execution_count": 30,
   "metadata": {
    "colab": {},
    "colab_type": "code",
    "id": "Cn3x41RBYfvY"
   },
   "outputs": [],
   "source": [
    "ann.add(tf.keras.layers.Dense(units=1, activation='sigmoid'))"
   ]
  },
  {
   "cell_type": "markdown",
   "metadata": {
    "colab_type": "text",
    "id": "JT4u2S1_Y4WG"
   },
   "source": [
    "## Training the ANN"
   ]
  },
  {
   "cell_type": "markdown",
   "metadata": {
    "colab_type": "text",
    "id": "8GWlJChhY_ZI"
   },
   "source": [
    "### Compiling the ANN"
   ]
  },
  {
   "cell_type": "code",
   "execution_count": 31,
   "metadata": {
    "colab": {},
    "colab_type": "code",
    "id": "fG3RrwDXZEaS"
   },
   "outputs": [],
   "source": [
    "ann.compile(optimizer = 'adam', loss = 'binary_crossentropy', metrics = ['accuracy'])"
   ]
  },
  {
   "cell_type": "markdown",
   "metadata": {
    "colab_type": "text",
    "id": "0QR_G5u7ZLSM"
   },
   "source": [
    "### Training the ANN on the Training set"
   ]
  },
  {
   "cell_type": "code",
   "execution_count": 32,
   "metadata": {
    "colab": {
     "base_uri": "https://localhost:8080/",
     "height": 1000
    },
    "colab_type": "code",
    "executionInfo": {
     "elapsed": 31750,
     "status": "ok",
     "timestamp": 1586428405580,
     "user": {
      "displayName": "Hadelin de Ponteves",
      "photoUrl": "https://lh3.googleusercontent.com/a-/AOh14GhEuXdT7eQweUmRPW8_laJuPggSK6hfvpl5a6WBaA=s64",
      "userId": "15047218817161520419"
     },
     "user_tz": -240
    },
    "id": "nHZ-LKv_ZRb3",
    "outputId": "6a90f176-803d-4b03-e65f-c05bda6f519c"
   },
   "outputs": [
    {
     "name": "stdout",
     "output_type": "stream",
     "text": [
      "Train on 455 samples\n",
      "Epoch 1/100\n",
      "455/455 [==============================] - 1s 2ms/sample - loss: 0.5175 - accuracy: 0.7736\n",
      "Epoch 2/100\n",
      "455/455 [==============================] - 0s 80us/sample - loss: 0.3080 - accuracy: 0.9451\n",
      "Epoch 3/100\n",
      "455/455 [==============================] - 0s 68us/sample - loss: 0.2051 - accuracy: 0.9451\n",
      "Epoch 4/100\n",
      "455/455 [==============================] - 0s 67us/sample - loss: 0.1572 - accuracy: 0.9495\n",
      "Epoch 5/100\n",
      "455/455 [==============================] - 0s 59us/sample - loss: 0.1310 - accuracy: 0.9560\n",
      "Epoch 6/100\n",
      "455/455 [==============================] - 0s 60us/sample - loss: 0.1124 - accuracy: 0.9604\n",
      "Epoch 7/100\n",
      "455/455 [==============================] - 0s 60us/sample - loss: 0.0987 - accuracy: 0.9626\n",
      "Epoch 8/100\n",
      "455/455 [==============================] - 0s 59us/sample - loss: 0.0882 - accuracy: 0.9692\n",
      "Epoch 9/100\n",
      "455/455 [==============================] - 0s 59us/sample - loss: 0.0798 - accuracy: 0.9802\n",
      "Epoch 10/100\n",
      "455/455 [==============================] - 0s 61us/sample - loss: 0.0737 - accuracy: 0.9824\n",
      "Epoch 11/100\n",
      "455/455 [==============================] - 0s 60us/sample - loss: 0.0689 - accuracy: 0.9868\n",
      "Epoch 12/100\n",
      "455/455 [==============================] - 0s 59us/sample - loss: 0.0645 - accuracy: 0.9868\n",
      "Epoch 13/100\n",
      "455/455 [==============================] - 0s 58us/sample - loss: 0.0612 - accuracy: 0.9868\n",
      "Epoch 14/100\n",
      "455/455 [==============================] - 0s 60us/sample - loss: 0.0582 - accuracy: 0.9868\n",
      "Epoch 15/100\n",
      "455/455 [==============================] - 0s 66us/sample - loss: 0.0556 - accuracy: 0.9868\n",
      "Epoch 16/100\n",
      "455/455 [==============================] - 0s 63us/sample - loss: 0.0529 - accuracy: 0.9868\n",
      "Epoch 17/100\n",
      "455/455 [==============================] - 0s 62us/sample - loss: 0.0511 - accuracy: 0.9868\n",
      "Epoch 18/100\n",
      "455/455 [==============================] - 0s 60us/sample - loss: 0.0488 - accuracy: 0.9868\n",
      "Epoch 19/100\n",
      "455/455 [==============================] - 0s 61us/sample - loss: 0.0467 - accuracy: 0.9890\n",
      "Epoch 20/100\n",
      "455/455 [==============================] - 0s 59us/sample - loss: 0.0450 - accuracy: 0.9890\n",
      "Epoch 21/100\n",
      "455/455 [==============================] - 0s 59us/sample - loss: 0.0434 - accuracy: 0.9890\n",
      "Epoch 22/100\n",
      "455/455 [==============================] - 0s 60us/sample - loss: 0.0417 - accuracy: 0.9890\n",
      "Epoch 23/100\n",
      "455/455 [==============================] - 0s 60us/sample - loss: 0.0406 - accuracy: 0.9890\n",
      "Epoch 24/100\n",
      "455/455 [==============================] - 0s 60us/sample - loss: 0.0391 - accuracy: 0.9890\n",
      "Epoch 25/100\n",
      "455/455 [==============================] - 0s 59us/sample - loss: 0.0377 - accuracy: 0.9890\n",
      "Epoch 26/100\n",
      "455/455 [==============================] - 0s 58us/sample - loss: 0.0365 - accuracy: 0.9912\n",
      "Epoch 27/100\n",
      "455/455 [==============================] - 0s 59us/sample - loss: 0.0353 - accuracy: 0.9912\n",
      "Epoch 28/100\n",
      "455/455 [==============================] - 0s 60us/sample - loss: 0.0345 - accuracy: 0.9912\n",
      "Epoch 29/100\n",
      "455/455 [==============================] - 0s 75us/sample - loss: 0.0326 - accuracy: 0.9912\n",
      "Epoch 30/100\n",
      "455/455 [==============================] - 0s 69us/sample - loss: 0.0318 - accuracy: 0.9890\n",
      "Epoch 31/100\n",
      "455/455 [==============================] - 0s 64us/sample - loss: 0.0313 - accuracy: 0.9912\n",
      "Epoch 32/100\n",
      "455/455 [==============================] - 0s 63us/sample - loss: 0.0295 - accuracy: 0.9912\n",
      "Epoch 33/100\n",
      "455/455 [==============================] - 0s 63us/sample - loss: 0.0284 - accuracy: 0.9912\n",
      "Epoch 34/100\n",
      "455/455 [==============================] - 0s 62us/sample - loss: 0.0280 - accuracy: 0.9912\n",
      "Epoch 35/100\n",
      "455/455 [==============================] - 0s 62us/sample - loss: 0.0266 - accuracy: 0.9912\n",
      "Epoch 36/100\n",
      "455/455 [==============================] - 0s 59us/sample - loss: 0.0261 - accuracy: 0.9912\n",
      "Epoch 37/100\n",
      "455/455 [==============================] - 0s 62us/sample - loss: 0.0247 - accuracy: 0.9912\n",
      "Epoch 38/100\n",
      "455/455 [==============================] - 0s 60us/sample - loss: 0.0237 - accuracy: 0.9934\n",
      "Epoch 39/100\n",
      "455/455 [==============================] - 0s 61us/sample - loss: 0.0228 - accuracy: 0.9934\n",
      "Epoch 40/100\n",
      "455/455 [==============================] - 0s 63us/sample - loss: 0.0222 - accuracy: 0.9934\n",
      "Epoch 41/100\n",
      "455/455 [==============================] - 0s 61us/sample - loss: 0.0215 - accuracy: 0.9934\n",
      "Epoch 42/100\n",
      "455/455 [==============================] - 0s 61us/sample - loss: 0.0210 - accuracy: 0.9934\n",
      "Epoch 43/100\n",
      "455/455 [==============================] - 0s 60us/sample - loss: 0.0199 - accuracy: 0.9956\n",
      "Epoch 44/100\n",
      "455/455 [==============================] - 0s 61us/sample - loss: 0.0195 - accuracy: 0.9956\n",
      "Epoch 45/100\n",
      "455/455 [==============================] - 0s 65us/sample - loss: 0.0198 - accuracy: 0.9956\n",
      "Epoch 46/100\n",
      "455/455 [==============================] - 0s 65us/sample - loss: 0.0185 - accuracy: 0.9956\n",
      "Epoch 47/100\n",
      "455/455 [==============================] - 0s 64us/sample - loss: 0.0176 - accuracy: 0.9956\n",
      "Epoch 48/100\n",
      "455/455 [==============================] - 0s 62us/sample - loss: 0.0167 - accuracy: 0.9956\n",
      "Epoch 49/100\n",
      "455/455 [==============================] - 0s 62us/sample - loss: 0.0162 - accuracy: 0.9956\n",
      "Epoch 50/100\n",
      "455/455 [==============================] - 0s 65us/sample - loss: 0.0154 - accuracy: 0.9956\n",
      "Epoch 51/100\n",
      "455/455 [==============================] - 0s 63us/sample - loss: 0.0151 - accuracy: 0.9956\n",
      "Epoch 52/100\n",
      "455/455 [==============================] - 0s 65us/sample - loss: 0.0145 - accuracy: 0.9956\n",
      "Epoch 53/100\n",
      "455/455 [==============================] - 0s 66us/sample - loss: 0.0141 - accuracy: 0.9956\n",
      "Epoch 54/100\n",
      "455/455 [==============================] - 0s 66us/sample - loss: 0.0135 - accuracy: 0.9956\n",
      "Epoch 55/100\n",
      "455/455 [==============================] - 0s 64us/sample - loss: 0.0131 - accuracy: 0.9956\n",
      "Epoch 56/100\n",
      "455/455 [==============================] - 0s 65us/sample - loss: 0.0129 - accuracy: 0.9956\n",
      "Epoch 57/100\n",
      "455/455 [==============================] - 0s 64us/sample - loss: 0.0123 - accuracy: 0.9956\n",
      "Epoch 58/100\n",
      "455/455 [==============================] - 0s 66us/sample - loss: 0.0118 - accuracy: 0.9956\n",
      "Epoch 59/100\n",
      "455/455 [==============================] - 0s 62us/sample - loss: 0.0118 - accuracy: 0.9956\n",
      "Epoch 60/100\n",
      "455/455 [==============================] - 0s 68us/sample - loss: 0.0111 - accuracy: 0.9956\n",
      "Epoch 61/100\n",
      "455/455 [==============================] - 0s 64us/sample - loss: 0.0113 - accuracy: 0.9956\n",
      "Epoch 62/100\n",
      "455/455 [==============================] - 0s 63us/sample - loss: 0.0105 - accuracy: 0.9956\n",
      "Epoch 63/100\n",
      "455/455 [==============================] - 0s 66us/sample - loss: 0.0100 - accuracy: 0.9956\n",
      "Epoch 64/100\n",
      "455/455 [==============================] - 0s 61us/sample - loss: 0.0096 - accuracy: 0.9956\n",
      "Epoch 65/100\n",
      "455/455 [==============================] - 0s 60us/sample - loss: 0.0092 - accuracy: 0.9978\n",
      "Epoch 66/100\n",
      "455/455 [==============================] - 0s 64us/sample - loss: 0.0091 - accuracy: 0.9956\n",
      "Epoch 67/100\n",
      "455/455 [==============================] - 0s 64us/sample - loss: 0.0088 - accuracy: 0.9978\n",
      "Epoch 68/100\n",
      "455/455 [==============================] - 0s 60us/sample - loss: 0.0083 - accuracy: 1.0000\n",
      "Epoch 69/100\n",
      "455/455 [==============================] - 0s 60us/sample - loss: 0.0080 - accuracy: 1.0000\n",
      "Epoch 70/100\n",
      "455/455 [==============================] - 0s 61us/sample - loss: 0.0077 - accuracy: 1.0000\n",
      "Epoch 71/100\n",
      "455/455 [==============================] - 0s 65us/sample - loss: 0.0075 - accuracy: 1.0000\n",
      "Epoch 72/100\n",
      "455/455 [==============================] - 0s 60us/sample - loss: 0.0072 - accuracy: 1.0000\n",
      "Epoch 73/100\n",
      "455/455 [==============================] - 0s 59us/sample - loss: 0.0069 - accuracy: 1.0000\n",
      "Epoch 74/100\n",
      "455/455 [==============================] - 0s 63us/sample - loss: 0.0068 - accuracy: 1.0000\n",
      "Epoch 75/100\n",
      "455/455 [==============================] - 0s 60us/sample - loss: 0.0064 - accuracy: 1.0000\n",
      "Epoch 76/100\n",
      "455/455 [==============================] - 0s 62us/sample - loss: 0.0063 - accuracy: 1.0000\n",
      "Epoch 77/100\n",
      "455/455 [==============================] - 0s 61us/sample - loss: 0.0071 - accuracy: 1.0000\n",
      "Epoch 78/100\n"
     ]
    },
    {
     "name": "stdout",
     "output_type": "stream",
     "text": [
      "455/455 [==============================] - 0s 61us/sample - loss: 0.0065 - accuracy: 1.0000\n",
      "Epoch 79/100\n",
      "455/455 [==============================] - 0s 60us/sample - loss: 0.0057 - accuracy: 1.0000\n",
      "Epoch 80/100\n",
      "455/455 [==============================] - 0s 60us/sample - loss: 0.0054 - accuracy: 1.0000\n",
      "Epoch 81/100\n",
      "455/455 [==============================] - 0s 60us/sample - loss: 0.0054 - accuracy: 1.0000\n",
      "Epoch 82/100\n",
      "455/455 [==============================] - 0s 60us/sample - loss: 0.0051 - accuracy: 1.0000\n",
      "Epoch 83/100\n",
      "455/455 [==============================] - 0s 59us/sample - loss: 0.0047 - accuracy: 1.0000\n",
      "Epoch 84/100\n",
      "455/455 [==============================] - 0s 59us/sample - loss: 0.0045 - accuracy: 1.0000\n",
      "Epoch 85/100\n",
      "455/455 [==============================] - 0s 62us/sample - loss: 0.0045 - accuracy: 1.0000\n",
      "Epoch 86/100\n",
      "455/455 [==============================] - 0s 62us/sample - loss: 0.0042 - accuracy: 1.0000\n",
      "Epoch 87/100\n",
      "455/455 [==============================] - 0s 62us/sample - loss: 0.0040 - accuracy: 1.0000\n",
      "Epoch 88/100\n",
      "455/455 [==============================] - 0s 65us/sample - loss: 0.0039 - accuracy: 1.0000\n",
      "Epoch 89/100\n",
      "455/455 [==============================] - 0s 66us/sample - loss: 0.0036 - accuracy: 1.0000\n",
      "Epoch 90/100\n",
      "455/455 [==============================] - 0s 65us/sample - loss: 0.0036 - accuracy: 1.0000\n",
      "Epoch 91/100\n",
      "455/455 [==============================] - 0s 61us/sample - loss: 0.0034 - accuracy: 1.0000\n",
      "Epoch 92/100\n",
      "455/455 [==============================] - 0s 64us/sample - loss: 0.0032 - accuracy: 1.0000\n",
      "Epoch 93/100\n",
      "455/455 [==============================] - 0s 59us/sample - loss: 0.0031 - accuracy: 1.0000\n",
      "Epoch 94/100\n",
      "455/455 [==============================] - 0s 61us/sample - loss: 0.0030 - accuracy: 1.0000\n",
      "Epoch 95/100\n",
      "455/455 [==============================] - 0s 59us/sample - loss: 0.0029 - accuracy: 1.0000\n",
      "Epoch 96/100\n",
      "455/455 [==============================] - 0s 62us/sample - loss: 0.0027 - accuracy: 1.0000\n",
      "Epoch 97/100\n",
      "455/455 [==============================] - 0s 61us/sample - loss: 0.0027 - accuracy: 1.0000\n",
      "Epoch 98/100\n",
      "455/455 [==============================] - 0s 79us/sample - loss: 0.0026 - accuracy: 1.0000\n",
      "Epoch 99/100\n",
      "455/455 [==============================] - 0s 64us/sample - loss: 0.0024 - accuracy: 1.0000\n",
      "Epoch 100/100\n",
      "455/455 [==============================] - 0s 65us/sample - loss: 0.0024 - accuracy: 1.0000\n"
     ]
    },
    {
     "data": {
      "text/plain": [
       "<tensorflow.python.keras.callbacks.History at 0x1a4e115a50>"
      ]
     },
     "execution_count": 32,
     "metadata": {},
     "output_type": "execute_result"
    }
   ],
   "source": [
    "ann.fit(X_train, y_train, batch_size = 32, epochs = 100)"
   ]
  },
  {
   "cell_type": "markdown",
   "metadata": {
    "colab_type": "text",
    "id": "tJj5k2MxZga3"
   },
   "source": [
    "## Part 4 - Making the predictions and evaluating the model"
   ]
  },
  {
   "cell_type": "markdown",
   "metadata": {
    "colab_type": "text",
    "id": "u7yx47jPZt11"
   },
   "source": [
    "### Predicting the Test set results"
   ]
  },
  {
   "cell_type": "code",
   "execution_count": 17,
   "metadata": {
    "colab": {
     "base_uri": "https://localhost:8080/",
     "height": 134
    },
    "colab_type": "code",
    "executionInfo": {
     "elapsed": 31748,
     "status": "ok",
     "timestamp": 1586428405581,
     "user": {
      "displayName": "Hadelin de Ponteves",
      "photoUrl": "https://lh3.googleusercontent.com/a-/AOh14GhEuXdT7eQweUmRPW8_laJuPggSK6hfvpl5a6WBaA=s64",
      "userId": "15047218817161520419"
     },
     "user_tz": -240
    },
    "id": "nIyEeQdRZwgs",
    "outputId": "a0f4d9ad-9a29-41dc-b101-9e7216d74dc0"
   },
   "outputs": [
    {
     "name": "stdout",
     "output_type": "stream",
     "text": [
      "[[1 1]\n",
      " [0 0]\n",
      " [0 0]\n",
      " [0 0]\n",
      " [0 0]\n",
      " [0 0]\n",
      " [0 0]\n",
      " [0 0]\n",
      " [0 0]\n",
      " [0 0]\n",
      " [0 0]\n",
      " [0 0]\n",
      " [0 0]\n",
      " [1 0]\n",
      " [1 0]\n",
      " [1 1]\n",
      " [0 0]\n",
      " [1 1]\n",
      " [1 1]\n",
      " [1 1]\n",
      " [1 1]\n",
      " [1 1]\n",
      " [0 0]\n",
      " [0 0]\n",
      " [1 1]\n",
      " [0 0]\n",
      " [0 0]\n",
      " [1 1]\n",
      " [0 0]\n",
      " [1 1]\n",
      " [0 0]\n",
      " [1 1]\n",
      " [0 0]\n",
      " [1 1]\n",
      " [0 0]\n",
      " [1 1]\n",
      " [0 0]\n",
      " [1 1]\n",
      " [0 0]\n",
      " [1 1]\n",
      " [1 1]\n",
      " [0 0]\n",
      " [1 1]\n",
      " [0 0]\n",
      " [0 0]\n",
      " [1 1]\n",
      " [0 0]\n",
      " [0 0]\n",
      " [0 0]\n",
      " [1 1]\n",
      " [1 1]\n",
      " [1 1]\n",
      " [1 1]\n",
      " [0 0]\n",
      " [0 0]\n",
      " [0 0]\n",
      " [0 0]\n",
      " [0 0]\n",
      " [0 0]\n",
      " [1 1]\n",
      " [1 1]\n",
      " [1 1]\n",
      " [0 0]\n",
      " [0 0]\n",
      " [1 1]\n",
      " [0 0]\n",
      " [1 1]\n",
      " [1 1]\n",
      " [1 1]\n",
      " [0 0]\n",
      " [0 0]\n",
      " [1 1]\n",
      " [0 0]\n",
      " [1 1]\n",
      " [1 1]\n",
      " [0 0]\n",
      " [0 0]\n",
      " [0 0]\n",
      " [0 0]\n",
      " [0 0]\n",
      " [1 1]\n",
      " [1 1]\n",
      " [1 1]\n",
      " [0 0]\n",
      " [1 1]\n",
      " [0 0]\n",
      " [0 0]\n",
      " [0 0]\n",
      " [1 1]\n",
      " [1 1]\n",
      " [0 0]\n",
      " [1 1]\n",
      " [1 0]\n",
      " [1 1]\n",
      " [0 0]\n",
      " [0 0]\n",
      " [1 1]\n",
      " [0 0]\n",
      " [0 0]\n",
      " [0 0]\n",
      " [0 0]\n",
      " [0 0]\n",
      " [0 0]\n",
      " [0 0]\n",
      " [1 1]\n",
      " [0 0]\n",
      " [1 1]\n",
      " [0 0]\n",
      " [1 1]\n",
      " [1 1]\n",
      " [0 0]\n",
      " [1 1]\n",
      " [1 1]\n",
      " [0 0]]\n"
     ]
    }
   ],
   "source": [
    "y_pred = ann.predict(X_test)\n",
    "y_pred = (y_pred > 0.5)\n",
    "print(np.concatenate((y_pred.reshape(len(y_pred),1), y_test.reshape(len(y_test),1)),1))"
   ]
  },
  {
   "cell_type": "markdown",
   "metadata": {
    "colab_type": "text",
    "id": "o0oyfLWoaEGw"
   },
   "source": [
    "### Making the Confusion Matrix"
   ]
  },
  {
   "cell_type": "code",
   "execution_count": 18,
   "metadata": {
    "colab": {
     "base_uri": "https://localhost:8080/",
     "height": 50
    },
    "colab_type": "code",
    "executionInfo": {
     "elapsed": 31746,
     "status": "ok",
     "timestamp": 1586428405581,
     "user": {
      "displayName": "Hadelin de Ponteves",
      "photoUrl": "https://lh3.googleusercontent.com/a-/AOh14GhEuXdT7eQweUmRPW8_laJuPggSK6hfvpl5a6WBaA=s64",
      "userId": "15047218817161520419"
     },
     "user_tz": -240
    },
    "id": "ci6K_r6LaF6P",
    "outputId": "09bd315f-7091-457f-b222-ce3998de57a5"
   },
   "outputs": [
    {
     "name": "stdout",
     "output_type": "stream",
     "text": [
      "[[64  3]\n",
      " [ 0 47]]\n"
     ]
    }
   ],
   "source": [
    "from sklearn.metrics import confusion_matrix\n",
    "cm = confusion_matrix(y_test, y_pred)\n",
    "print(cm)"
   ]
  },
  {
   "cell_type": "code",
   "execution_count": null,
   "metadata": {},
   "outputs": [],
   "source": []
  },
  {
   "cell_type": "code",
   "execution_count": null,
   "metadata": {},
   "outputs": [],
   "source": []
  }
 ],
 "metadata": {
  "colab": {
   "authorship_tag": "ABX9TyMwbl0jJoa05wuIU59y39H3",
   "collapsed_sections": [],
   "name": "Artificial Neural Network",
   "provenance": []
  },
  "kernelspec": {
   "display_name": "Python 3",
   "language": "python",
   "name": "python3"
  },
  "language_info": {
   "codemirror_mode": {
    "name": "ipython",
    "version": 3
   },
   "file_extension": ".py",
   "mimetype": "text/x-python",
   "name": "python",
   "nbconvert_exporter": "python",
   "pygments_lexer": "ipython3",
   "version": "3.7.6"
  }
 },
 "nbformat": 4,
 "nbformat_minor": 1
}
